{
  "nbformat": 4,
  "nbformat_minor": 0,
  "metadata": {
    "colab": {
      "name": "Untitled0.ipynb",
      "provenance": [],
      "authorship_tag": "ABX9TyNgsfk4sN7hB/OPg70xvYX3",
      "include_colab_link": true
    },
    "kernelspec": {
      "name": "python3",
      "display_name": "Python 3"
    },
    "language_info": {
      "name": "python"
    }
  },
  "cells": [
    {
      "cell_type": "markdown",
      "metadata": {
        "id": "view-in-github",
        "colab_type": "text"
      },
      "source": [
        "<a href=\"https://colab.research.google.com/github/Sravan-Apps/python_notebooks/blob/main/matplotlib_scratch.ipynb\" target=\"_parent\"><img src=\"https://colab.research.google.com/assets/colab-badge.svg\" alt=\"Open In Colab\"/></a>"
      ]
    },
    {
      "cell_type": "code",
      "metadata": {
        "id": "0OkJJZ6qdseF"
      },
      "source": [
        "import matplotlib.pyplot as plt\n",
        "import numpy as np\n",
        "\n"
      ],
      "execution_count": 2,
      "outputs": []
    },
    {
      "cell_type": "code",
      "metadata": {
        "id": "-AGSgiTXgAZP",
        "colab": {
          "base_uri": "https://localhost:8080/"
        },
        "outputId": "bc6887af-c26c-49ef-e3b7-6991beff1d79"
      },
      "source": [
        "help(plt.subplots)"
      ],
      "execution_count": null,
      "outputs": [
        {
          "output_type": "stream",
          "text": [
            "Help on function subplots in module matplotlib.pyplot:\n",
            "\n",
            "subplots(nrows=1, ncols=1, sharex=False, sharey=False, squeeze=True, subplot_kw=None, gridspec_kw=None, **fig_kw)\n",
            "    Create a figure and a set of subplots.\n",
            "    \n",
            "    This utility wrapper makes it convenient to create common layouts of\n",
            "    subplots, including the enclosing figure object, in a single call.\n",
            "    \n",
            "    Parameters\n",
            "    ----------\n",
            "    nrows, ncols : int, optional, default: 1\n",
            "        Number of rows/columns of the subplot grid.\n",
            "    \n",
            "    sharex, sharey : bool or {'none', 'all', 'row', 'col'}, default: False\n",
            "        Controls sharing of properties among x (`sharex`) or y (`sharey`)\n",
            "        axes:\n",
            "    \n",
            "        - True or 'all': x- or y-axis will be shared among all subplots.\n",
            "        - False or 'none': each subplot x- or y-axis will be independent.\n",
            "        - 'row': each subplot row will share an x- or y-axis.\n",
            "        - 'col': each subplot column will share an x- or y-axis.\n",
            "    \n",
            "        When subplots have a shared x-axis along a column, only the x tick\n",
            "        labels of the bottom subplot are created. Similarly, when subplots\n",
            "        have a shared y-axis along a row, only the y tick labels of the first\n",
            "        column subplot are created. To later turn other subplots' ticklabels\n",
            "        on, use `~matplotlib.axes.Axes.tick_params`.\n",
            "    \n",
            "    squeeze : bool, optional, default: True\n",
            "        - If True, extra dimensions are squeezed out from the returned\n",
            "          array of `~matplotlib.axes.Axes`:\n",
            "    \n",
            "          - if only one subplot is constructed (nrows=ncols=1), the\n",
            "            resulting single Axes object is returned as a scalar.\n",
            "          - for Nx1 or 1xM subplots, the returned object is a 1D numpy\n",
            "            object array of Axes objects.\n",
            "          - for NxM, subplots with N>1 and M>1 are returned as a 2D array.\n",
            "    \n",
            "        - If False, no squeezing at all is done: the returned Axes object is\n",
            "          always a 2D array containing Axes instances, even if it ends up\n",
            "          being 1x1.\n",
            "    \n",
            "    num : int or str, optional, default: None\n",
            "        A `.pyplot.figure` keyword that sets the figure number or label.\n",
            "    \n",
            "    subplot_kw : dict, optional\n",
            "        Dict with keywords passed to the\n",
            "        `~matplotlib.figure.Figure.add_subplot` call used to create each\n",
            "        subplot.\n",
            "    \n",
            "    gridspec_kw : dict, optional\n",
            "        Dict with keywords passed to the `~matplotlib.gridspec.GridSpec`\n",
            "        constructor used to create the grid the subplots are placed on.\n",
            "    \n",
            "    **fig_kw\n",
            "        All additional keyword arguments are passed to the\n",
            "        `.pyplot.figure` call.\n",
            "    \n",
            "    Returns\n",
            "    -------\n",
            "    fig : `~.figure.Figure`\n",
            "    \n",
            "    ax : `.axes.Axes` object or array of Axes objects.\n",
            "        *ax* can be either a single `~matplotlib.axes.Axes` object or an\n",
            "        array of Axes objects if more than one subplot was created.  The\n",
            "        dimensions of the resulting array can be controlled with the squeeze\n",
            "        keyword, see above.\n",
            "    \n",
            "        Typical idioms for handling the return value are::\n",
            "    \n",
            "            # using the variable ax for single a Axes\n",
            "            fig, ax = plt.subplots()\n",
            "    \n",
            "            # using the variable axs for multiple Axes\n",
            "            fig, axs = plt.subplots(2, 2)\n",
            "    \n",
            "            # using tuple unpacking for multiple Axes\n",
            "            fig, (ax1, ax2) = plt.subplot(1, 2)\n",
            "            fig, ((ax1, ax2), (ax3, ax4)) = plt.subplot(2, 2)\n",
            "    \n",
            "        The names ``ax`` and pluralized ``axs`` are preferred over ``axes``\n",
            "        because for the latter it's not clear if it refers to a single\n",
            "        `~.axes.Axes` instance or a collection of these.\n",
            "    \n",
            "    Examples\n",
            "    --------\n",
            "    ::\n",
            "    \n",
            "        # First create some toy data:\n",
            "        x = np.linspace(0, 2*np.pi, 400)\n",
            "        y = np.sin(x**2)\n",
            "    \n",
            "        # Create just a figure and only one subplot\n",
            "        fig, ax = plt.subplots()\n",
            "        ax.plot(x, y)\n",
            "        ax.set_title('Simple plot')\n",
            "    \n",
            "        # Create two subplots and unpack the output array immediately\n",
            "        f, (ax1, ax2) = plt.subplots(1, 2, sharey=True)\n",
            "        ax1.plot(x, y)\n",
            "        ax1.set_title('Sharing Y axis')\n",
            "        ax2.scatter(x, y)\n",
            "    \n",
            "        # Create four polar axes and access them through the returned array\n",
            "        fig, axs = plt.subplots(2, 2, subplot_kw=dict(polar=True))\n",
            "        axs[0, 0].plot(x, y)\n",
            "        axs[1, 1].scatter(x, y)\n",
            "    \n",
            "        # Share a X axis with each column of subplots\n",
            "        plt.subplots(2, 2, sharex='col')\n",
            "    \n",
            "        # Share a Y axis with each row of subplots\n",
            "        plt.subplots(2, 2, sharey='row')\n",
            "    \n",
            "        # Share both X and Y axes with all subplots\n",
            "        plt.subplots(2, 2, sharex='all', sharey='all')\n",
            "    \n",
            "        # Note that this is the same as\n",
            "        plt.subplots(2, 2, sharex=True, sharey=True)\n",
            "    \n",
            "        # Create figure number 10 with a single subplot\n",
            "        # and clears it if it already exists.\n",
            "        fig, ax = plt.subplots(num=10, clear=True)\n",
            "    \n",
            "    See Also\n",
            "    --------\n",
            "    .pyplot.figure\n",
            "    .pyplot.subplot\n",
            "    .pyplot.axes\n",
            "    .Figure.subplots\n",
            "    .Figure.add_subplot\n",
            "\n"
          ],
          "name": "stdout"
        }
      ]
    },
    {
      "cell_type": "code",
      "metadata": {
        "id": "2OdX5kbUf6FG",
        "colab": {
          "base_uri": "https://localhost:8080/",
          "height": 513
        },
        "outputId": "f596a9da-97a8-480d-d03b-598f1171ee0f"
      },
      "source": [
        "fig, ax = plt.subplots()  # Create a figure containing a single axes.\n",
        "ax.plot([1, 2, 3, 4], [1, 4, 2, 3])  # Plot some data on the axes.\n",
        "ax.\n"
      ],
      "execution_count": null,
      "outputs": [
        {
          "output_type": "execute_result",
          "data": {
            "image/png": "[encoded data removed]",
            "text/plain": [
              "<Figure size 432x288 with 1 Axes>"
            ]
          },
          "metadata": {
            "tags": []
          },
          "execution_count": 4
        },
        {
          "output_type": "display_data",
          "data": {
            "image/png": "[encoded data removed]",
            "text/plain": [
              "<Figure size 432x288 with 1 Axes>"
            ]
          },
          "metadata": {
            "tags": [],
            "needs_background": "light"
          }
        }
      ]
    },
    {
      "cell_type": "code",
      "metadata": {
        "id": "TtCSTJW5f_Qi",
        "colab": {
          "base_uri": "https://localhost:8080/",
          "height": 282
        },
        "outputId": "32fc04ed-6764-4e62-f8e6-4017b5a5a9ef"
      },
      "source": [
        "plt.plot([1, 2, 3, 4], [1, 4, 2, 3])  # Matplotlib plot."
      ],
      "execution_count": 3,
      "outputs": [
        {
          "output_type": "execute_result",
          "data": {
            "text/plain": [
              "[<matplotlib.lines.Line2D at 0x7fd7ac896090>]"
            ]
          },
          "metadata": {
            "tags": []
          },
          "execution_count": 3
        },
        {
          "output_type": "display_data",
          "data": {
            "image/png": "[encoded data removed]",
            "text/plain": [
              "<Figure size 432x288 with 1 Axes>"
            ]
          },
          "metadata": {
            "tags": [],
            "needs_background": "light"
          }
        }
      ]
    },
    {
      "cell_type": "code",
      "metadata": {
        "colab": {
          "base_uri": "https://localhost:8080/",
          "height": 34
        },
        "id": "KdXATcE7-3n0",
        "outputId": "3b00c81a-bbaf-4b59-88fa-1dee86fa50e6"
      },
      "source": [
        "fig = plt.figure() "
      ],
      "execution_count": 4,
      "outputs": [
        {
          "output_type": "display_data",
          "data": {
            "text/plain": [
              "<Figure size 432x288 with 0 Axes>"
            ]
          },
          "metadata": {
            "tags": []
          }
        }
      ]
    },
    {
      "cell_type": "code",
      "metadata": {
        "colab": {
          "base_uri": "https://localhost:8080/"
        },
        "id": "Xg8IAHQ-_xI4",
        "outputId": "e37765f8-3e6e-4acb-ee5a-4afb49a2bb24"
      },
      "source": [
        "fig"
      ],
      "execution_count": 5,
      "outputs": [
        {
          "output_type": "execute_result",
          "data": {
            "text/plain": [
              "<Figure size 432x288 with 0 Axes>"
            ]
          },
          "metadata": {
            "tags": []
          },
          "execution_count": 5
        }
      ]
    },
    {
      "cell_type": "code",
      "metadata": {
        "colab": {
          "base_uri": "https://localhost:8080/",
          "height": 538
        },
        "id": "IYM_XQEK_yoe",
        "outputId": "35b5b896-f848-4a0e-d9f3-8701edcea460"
      },
      "source": [
        "fig = plt.figure()  # an empty figure with no Axes\n",
        "fig, ax = plt.subplots()  # a figure with a single Axes\n",
        "fig, axs = plt.subplots(2, 2)  # a figure with a 2x2 grid of Axes"
      ],
      "execution_count": 6,
      "outputs": [
        {
          "output_type": "display_data",
          "data": {
            "text/plain": [
              "<Figure size 432x288 with 0 Axes>"
            ]
          },
          "metadata": {
            "tags": []
          }
        },
        {
          "output_type": "display_data",
          "data": {
            "image/png": "[encoded data removed]",
            "text/plain": [
              "<Figure size 432x288 with 1 Axes>"
            ]
          },
          "metadata": {
            "tags": [],
            "needs_background": "light"
          }
        },
        {
          "output_type": "display_data",
          "data": {
            "image/png": "[encoded data removed]",
            "text/plain": [
              "<Figure size 432x288 with 4 Axes>"
            ]
          },
          "metadata": {
            "tags": [],
            "needs_background": "light"
          }
        }
      ]
    },
    {
      "cell_type": "code",
      "metadata": {
        "colab": {
          "base_uri": "https://localhost:8080/"
        },
        "id": "5rCJaqA4_1w8",
        "outputId": "9847021c-760e-473e-a147-8969429e6e69"
      },
      "source": [
        "np.random.rand(4, 5)"
      ],
      "execution_count": 7,
      "outputs": [
        {
          "output_type": "execute_result",
          "data": {
            "text/plain": [
              "array([[0.91058494, 0.10498805, 0.48111407, 0.5021856 , 0.70846957],\n",
              "       [0.69540081, 0.32697709, 0.82684478, 0.77205151, 0.15854053],\n",
              "       [0.28295272, 0.07146544, 0.26217261, 0.79901506, 0.09443117],\n",
              "       [0.58428222, 0.11229026, 0.72528417, 0.14807217, 0.09685613]])"
            ]
          },
          "metadata": {
            "tags": []
          },
          "execution_count": 7
        }
      ]
    },
    {
      "cell_type": "code",
      "metadata": {
        "id": "yMxLFuyqCGKN"
      },
      "source": [
        "import pandas"
      ],
      "execution_count": 8,
      "outputs": []
    },
    {
      "cell_type": "code",
      "metadata": {
        "id": "mhm48XElCMDS"
      },
      "source": [
        "a = pandas.DataFrame(np.random.rand(4, 5), columns = list('abcde'))\n",
        "a_asarray = a.values"
      ],
      "execution_count": 9,
      "outputs": []
    },
    {
      "cell_type": "code",
      "metadata": {
        "colab": {
          "base_uri": "https://localhost:8080/"
        },
        "id": "uF-iV3wrCUe1",
        "outputId": "9c233c72-7272-4422-9292-1c7884780289"
      },
      "source": [
        "a_asarray"
      ],
      "execution_count": 10,
      "outputs": [
        {
          "output_type": "execute_result",
          "data": {
            "text/plain": [
              "array([[0.21865689, 0.95983548, 0.50007385, 0.03353764, 0.46196615],\n",
              "       [0.55693042, 0.22704826, 0.6498192 , 0.83709543, 0.50259233],\n",
              "       [0.07048674, 0.11930671, 0.81965488, 0.91665576, 0.64497043],\n",
              "       [0.8158384 , 0.34552855, 0.51759541, 0.62531881, 0.65867629]])"
            ]
          },
          "metadata": {
            "tags": []
          },
          "execution_count": 10
        }
      ]
    },
    {
      "cell_type": "code",
      "metadata": {
        "colab": {
          "base_uri": "https://localhost:8080/"
        },
        "id": "T1PC7n0tCWAn",
        "outputId": "ec687dcd-32d4-45f3-d282-5f6b523d0994"
      },
      "source": [
        "b = np.matrix([[1, 2], [3, 4]])\n",
        "b_asarray = np.asarray(b)\n",
        "b_asarray"
      ],
      "execution_count": 11,
      "outputs": [
        {
          "output_type": "execute_result",
          "data": {
            "text/plain": [
              "array([[1, 2],\n",
              "       [3, 4]])"
            ]
          },
          "metadata": {
            "tags": []
          },
          "execution_count": 11
        }
      ]
    },
    {
      "cell_type": "code",
      "metadata": {
        "id": "opKV3mVCIQJt",
        "outputId": "edd5912b-c496-4619-d746-72aacfc832fe",
        "colab": {
          "base_uri": "https://localhost:8080/"
        }
      },
      "source": [
        "np.linspace(1,19,num=9)"
      ],
      "execution_count": 19,
      "outputs": [
        {
          "output_type": "execute_result",
          "data": {
            "text/plain": [
              "array([ 1.  ,  3.25,  5.5 ,  7.75, 10.  , 12.25, 14.5 , 16.75, 19.  ])"
            ]
          },
          "metadata": {
            "tags": []
          },
          "execution_count": 19
        }
      ]
    },
    {
      "cell_type": "code",
      "metadata": {
        "id": "3-2cKqjXHsrR",
        "outputId": "1941dd9e-d5a9-4188-ee3b-39db136f1446",
        "colab": {
          "base_uri": "https://localhost:8080/"
        }
      },
      "source": [
        "help(np.linspace)"
      ],
      "execution_count": 13,
      "outputs": [
        {
          "output_type": "stream",
          "text": [
            "Help on function linspace in module numpy:\n",
            "\n",
            "linspace(start, stop, num=50, endpoint=True, retstep=False, dtype=None, axis=0)\n",
            "    Return evenly spaced numbers over a specified interval.\n",
            "    \n",
            "    Returns `num` evenly spaced samples, calculated over the\n",
            "    interval [`start`, `stop`].\n",
            "    \n",
            "    The endpoint of the interval can optionally be excluded.\n",
            "    \n",
            "    .. versionchanged:: 1.16.0\n",
            "        Non-scalar `start` and `stop` are now supported.\n",
            "    \n",
            "    Parameters\n",
            "    ----------\n",
            "    start : array_like\n",
            "        The starting value of the sequence.\n",
            "    stop : array_like\n",
            "        The end value of the sequence, unless `endpoint` is set to False.\n",
            "        In that case, the sequence consists of all but the last of ``num + 1``\n",
            "        evenly spaced samples, so that `stop` is excluded.  Note that the step\n",
            "        size changes when `endpoint` is False.\n",
            "    num : int, optional\n",
            "        Number of samples to generate. Default is 50. Must be non-negative.\n",
            "    endpoint : bool, optional\n",
            "        If True, `stop` is the last sample. Otherwise, it is not included.\n",
            "        Default is True.\n",
            "    retstep : bool, optional\n",
            "        If True, return (`samples`, `step`), where `step` is the spacing\n",
            "        between samples.\n",
            "    dtype : dtype, optional\n",
            "        The type of the output array.  If `dtype` is not given, infer the data\n",
            "        type from the other input arguments.\n",
            "    \n",
            "        .. versionadded:: 1.9.0\n",
            "    \n",
            "    axis : int, optional\n",
            "        The axis in the result to store the samples.  Relevant only if start\n",
            "        or stop are array-like.  By default (0), the samples will be along a\n",
            "        new axis inserted at the beginning. Use -1 to get an axis at the end.\n",
            "    \n",
            "        .. versionadded:: 1.16.0\n",
            "    \n",
            "    Returns\n",
            "    -------\n",
            "    samples : ndarray\n",
            "        There are `num` equally spaced samples in the closed interval\n",
            "        ``[start, stop]`` or the half-open interval ``[start, stop)``\n",
            "        (depending on whether `endpoint` is True or False).\n",
            "    step : float, optional\n",
            "        Only returned if `retstep` is True\n",
            "    \n",
            "        Size of spacing between samples.\n",
            "    \n",
            "    \n",
            "    See Also\n",
            "    --------\n",
            "    arange : Similar to `linspace`, but uses a step size (instead of the\n",
            "             number of samples).\n",
            "    geomspace : Similar to `linspace`, but with numbers spaced evenly on a log\n",
            "                scale (a geometric progression).\n",
            "    logspace : Similar to `geomspace`, but with the end points specified as\n",
            "               logarithms.\n",
            "    \n",
            "    Examples\n",
            "    --------\n",
            "    >>> np.linspace(2.0, 3.0, num=5)\n",
            "    array([2.  , 2.25, 2.5 , 2.75, 3.  ])\n",
            "    >>> np.linspace(2.0, 3.0, num=5, endpoint=False)\n",
            "    array([2. ,  2.2,  2.4,  2.6,  2.8])\n",
            "    >>> np.linspace(2.0, 3.0, num=5, retstep=True)\n",
            "    (array([2.  ,  2.25,  2.5 ,  2.75,  3.  ]), 0.25)\n",
            "    \n",
            "    Graphical illustration:\n",
            "    \n",
            "    >>> import matplotlib.pyplot as plt\n",
            "    >>> N = 8\n",
            "    >>> y = np.zeros(N)\n",
            "    >>> x1 = np.linspace(0, 10, N, endpoint=True)\n",
            "    >>> x2 = np.linspace(0, 10, N, endpoint=False)\n",
            "    >>> plt.plot(x1, y, 'o')\n",
            "    [<matplotlib.lines.Line2D object at 0x...>]\n",
            "    >>> plt.plot(x2, y + 0.5, 'o')\n",
            "    [<matplotlib.lines.Line2D object at 0x...>]\n",
            "    >>> plt.ylim([-0.5, 1])\n",
            "    (-0.5, 1)\n",
            "    >>> plt.show()\n",
            "\n"
          ],
          "name": "stdout"
        }
      ]
    },
    {
      "cell_type": "code",
      "metadata": {
        "colab": {
          "base_uri": "https://localhost:8080/",
          "height": 312
        },
        "id": "_J7O6N_mCdnW",
        "outputId": "de35f0fe-5607-473c-f8fa-0cc959bf679c"
      },
      "source": [
        "x = np.linspace(0, 2, 100)\n",
        "\n",
        "# Note that even in the OO-style, we use `.pyplot.figure` to create the figure.\n",
        "fig, ax = plt.subplots()  # Create a figure and an axes.\n",
        "ax.plot(x, x, label='linear')  # Plot some data on the axes.\n",
        "ax.plot(x, x**2, label='quadratic')  # Plot more data on the axes...\n",
        "ax.plot(x, x**3, label='cubic')  # ... and some more.\n",
        "ax.set_xlabel('x label')  # Add an x-label to the axes.\n",
        "ax.set_ylabel('y label')  # Add a y-label to the axes.\n",
        "ax.set_title(\"Simple Plot\")  # Add a title to the axes.\n",
        "ax.legend()  # Add a legend.\n",
        "\n",
        "type(ax)"
      ],
      "execution_count": 23,
      "outputs": [
        {
          "output_type": "execute_result",
          "data": {
            "text/plain": [
              "matplotlib.axes._subplots.AxesSubplot"
            ]
          },
          "metadata": {
            "tags": []
          },
          "execution_count": 23
        },
        {
          "output_type": "display_data",
          "data": {
            "image/png": "[encoded data removed]",
            "text/plain": [
              "<Figure size 432x288 with 1 Axes>"
            ]
          },
          "metadata": {
            "tags": [],
            "needs_background": "light"
          }
        }
      ]
    },
    {
      "cell_type": "code",
      "metadata": {
        "id": "q_stcxDjmUzD"
      },
      "source": [
        "def my_plotter(ax, data1, data2, param_dict):\n",
        "    \"\"\"\n",
        "    A helper function to make a graph\n",
        "\n",
        "    Parameters\n",
        "    ----------\n",
        "    ax : Axes\n",
        "        The axes to draw to\n",
        "\n",
        "    data1 : array\n",
        "       The x data\n",
        "\n",
        "    data2 : array\n",
        "       The y data\n",
        "\n",
        "    param_dict : dict\n",
        "       Dictionary of kwargs to pass to ax.plot\n",
        "\n",
        "    Returns\n",
        "    -------\n",
        "    out : list\n",
        "        list of artists added\n",
        "    \"\"\"\n",
        "    out = ax.plot(data1, data2, **param_dict)\n",
        "    return out"
      ],
      "execution_count": 25,
      "outputs": []
    },
    {
      "cell_type": "code",
      "metadata": {
        "id": "xXZIPUFRmikl",
        "outputId": "4f09ae01-16e0-401c-ae14-11f59ca0efea",
        "colab": {
          "base_uri": "https://localhost:8080/"
        }
      },
      "source": [
        "help( np.random.randn)"
      ],
      "execution_count": 30,
      "outputs": [
        {
          "output_type": "stream",
          "text": [
            "Help on built-in function randn:\n",
            "\n",
            "randn(...) method of numpy.random.mtrand.RandomState instance\n",
            "    randn(d0, d1, ..., dn)\n",
            "    \n",
            "    Return a sample (or samples) from the \"standard normal\" distribution.\n",
            "    \n",
            "    .. note::\n",
            "        This is a convenience function for users porting code from Matlab,\n",
            "        and wraps `standard_normal`. That function takes a\n",
            "        tuple to specify the size of the output, which is consistent with\n",
            "        other NumPy functions like `numpy.zeros` and `numpy.ones`.\n",
            "    \n",
            "    .. note::\n",
            "        New code should use the ``standard_normal`` method of a ``default_rng()``\n",
            "        instance instead; please see the :ref:`random-quick-start`.\n",
            "    \n",
            "    If positive int_like arguments are provided, `randn` generates an array\n",
            "    of shape ``(d0, d1, ..., dn)``, filled\n",
            "    with random floats sampled from a univariate \"normal\" (Gaussian)\n",
            "    distribution of mean 0 and variance 1. A single float randomly sampled\n",
            "    from the distribution is returned if no argument is provided.\n",
            "    \n",
            "    Parameters\n",
            "    ----------\n",
            "    d0, d1, ..., dn : int, optional\n",
            "        The dimensions of the returned array, must be non-negative.\n",
            "        If no argument is given a single Python float is returned.\n",
            "    \n",
            "    Returns\n",
            "    -------\n",
            "    Z : ndarray or float\n",
            "        A ``(d0, d1, ..., dn)``-shaped array of floating-point samples from\n",
            "        the standard normal distribution, or a single such float if\n",
            "        no parameters were supplied.\n",
            "    \n",
            "    See Also\n",
            "    --------\n",
            "    standard_normal : Similar, but takes a tuple as its argument.\n",
            "    normal : Also accepts mu and sigma arguments.\n",
            "    Generator.standard_normal: which should be used for new code.\n",
            "    \n",
            "    Notes\n",
            "    -----\n",
            "    For random samples from :math:`N(\\mu, \\sigma^2)`, use:\n",
            "    \n",
            "    ``sigma * np.random.randn(...) + mu``\n",
            "    \n",
            "    Examples\n",
            "    --------\n",
            "    >>> np.random.randn()\n",
            "    2.1923875335537315  # random\n",
            "    \n",
            "    Two-by-four array of samples from N(3, 6.25):\n",
            "    \n",
            "    >>> 3 + 2.5 * np.random.randn(2, 4)\n",
            "    array([[-4.49401501,  4.00950034, -1.81814867,  7.29718677],   # random\n",
            "           [ 0.39924804,  4.68456316,  4.99394529,  4.84057254]])  # random\n",
            "\n"
          ],
          "name": "stdout"
        }
      ]
    },
    {
      "cell_type": "code",
      "metadata": {
        "colab": {
          "base_uri": "https://localhost:8080/",
          "height": 612
        },
        "id": "lxzGYoTACkdw",
        "outputId": "3e96c611-68c5-4ae5-a6ca-94bb47aa5072"
      },
      "source": [
        "data1, data2, data3, data4 = np.random.randn(4, 100)\n",
        "fig, ax = plt.subplots(1, 1)\n",
        "my_plotter(ax, data1, data2, {'marker': 'x'})\n",
        "data1"
      ],
      "execution_count": 29,
      "outputs": [
        {
          "output_type": "execute_result",
          "data": {
            "text/plain": [
              "array([-1.18420643,  0.06913746,  0.34510832,  1.54568895,  0.54781903,\n",
              "       -0.42870702, -0.20874539, -0.51122747, -0.72488061,  0.73683404,\n",
              "        1.16393434, -0.83232742,  1.97610563,  0.65513494, -1.60262618,\n",
              "       -0.27456918,  1.09705633,  0.19352087, -2.21344437, -1.19811275,\n",
              "        0.10052436,  1.19167347, -0.10164518, -0.36672361, -0.16963593,\n",
              "       -0.42341565,  0.27648409, -1.57927108, -0.41978917, -0.55965804,\n",
              "        1.75135152,  1.21389759, -0.13102336, -1.55005172,  0.81221956,\n",
              "        1.21825034,  0.17646305, -1.25300126,  0.37735232,  0.59799697,\n",
              "        1.52355543,  1.2447237 , -0.12028545, -1.2784929 , -0.82147829,\n",
              "        0.0049298 ,  1.76963898,  0.69871489,  0.23940543, -1.06679753,\n",
              "        1.4198185 , -0.97850652, -1.29674185, -0.12575155, -0.4010444 ,\n",
              "        0.21485773,  0.4762298 , -0.48060551, -1.06481708, -0.08261515,\n",
              "       -0.42615264, -0.12937694,  0.1302291 , -0.30394821, -1.20629897,\n",
              "       -2.27878739, -0.09996727, -1.60489395, -1.35183479,  0.18368516,\n",
              "        0.85402104,  0.88601529,  0.90261278, -1.44102762, -0.44774146,\n",
              "       -0.13582445, -0.76342919, -1.4900831 , -1.60836712, -0.31184977,\n",
              "        0.72563774,  1.86952879,  0.00428469,  0.79648268,  0.19088958,\n",
              "        1.09536331,  0.11627859,  0.58617437, -1.34061248, -0.21970864,\n",
              "       -1.89046826,  2.08756623, -1.21291375, -1.89104755, -2.14420483,\n",
              "        0.65462698,  0.29693321, -1.42885945, -1.07627362, -0.08400591])"
            ]
          },
          "metadata": {
            "tags": []
          },
          "execution_count": 29
        },
        {
          "output_type": "display_data",
          "data": {
            "image/png": "[encoded data removed]",
            "text/plain": [
              "<Figure size 432x288 with 1 Axes>"
            ]
          },
          "metadata": {
            "tags": [],
            "needs_background": "light"
          }
        }
      ]
    },
    {
      "cell_type": "code",
      "metadata": {
        "id": "j1lbARSuma0E"
      },
      "source": [
        ""
      ],
      "execution_count": null,
      "outputs": []
    }
  ]
}